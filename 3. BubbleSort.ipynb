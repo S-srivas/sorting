{
 "cells": [
  {
   "cell_type": "code",
   "execution_count": 39,
   "metadata": {
    "scrolled": false
   },
   "outputs": [
    {
     "name": "stdout",
     "output_type": "stream",
     "text": [
      "[10, 20, 30, 40, 50]\n"
     ]
    }
   ],
   "source": [
    "def bubbleSort(alist):\n",
    "    for Saina in range(len(alist)-1,0,-1):\n",
    "        # Length  \n",
    "        for i in range(0, Saina, 1):\n",
    "            if alist[i]>alist[i+1]:\n",
    "                temp = alist[i]\n",
    "                alist[i] = alist[i+1]\n",
    "                alist[i+1] = temp\n",
    "\n",
    "alist = [10, 50, 40, 30, 20]\n",
    "bubbleSort(alist)\n",
    "print(alist)"
   ]
  },
  {
   "cell_type": "code",
   "execution_count": 40,
   "metadata": {},
   "outputs": [
    {
     "name": "stdout",
     "output_type": "stream",
     "text": [
      "[50, 40, 30, 20, 10]\n"
     ]
    }
   ],
   "source": [
    "def decrBubbleSort(alist):\n",
    "    for Saina in range(len(alist)-1,0,-1):\n",
    "        for i in range(0, Saina, 1):\n",
    "            if alist[i] < alist[i+1]:\n",
    "                temp = alist[i]\n",
    "                alist[i] = alist[i+1]\n",
    "                alist[i+1] = temp\n",
    "\n",
    "alist = [10, 50, 40, 30, 20]\n",
    "decrBubbleSort(alist)\n",
    "print(alist)"
   ]
  },
  {
   "cell_type": "code",
   "execution_count": 59,
   "metadata": {},
   "outputs": [
    {
     "name": "stdout",
     "output_type": "stream",
     "text": [
      "Answer:  [10, 20, 30, 40, 50]\n"
     ]
    }
   ],
   "source": [
    "def bubbleSortFromStart(alist):\n",
    "    for i in range(0, len(alist),1):\n",
    "        # Length  \n",
    "        for j in range(i+1,len(alist), 1):\n",
    "            #print ('\\tDebug: ', i, j)\n",
    "            if alist[i] > alist[j]:\n",
    "                temp = alist[i]\n",
    "                alist[i] = alist[j]\n",
    "                alist[j] = temp\n",
    "\n",
    "blist = [10, 50, 40, 30, 20]\n",
    "bubbleSortFromStart(blist)\n",
    "print('Answer: ', blist)"
   ]
  },
  {
   "cell_type": "code",
   "execution_count": 58,
   "metadata": {},
   "outputs": [
    {
     "name": "stdout",
     "output_type": "stream",
     "text": [
      "Answer:  [50, 40, 30, 20, 10]\n"
     ]
    }
   ],
   "source": [
    "def decrBubbleSortFromStart(alist):\n",
    "    for i in range(0, len(alist),1):\n",
    "        # Length  \n",
    "        for j in range(i+1,len(alist), 1):\n",
    "            #print ('\\tDebug: ', i, j)\n",
    "            if alist[i] < alist[j]:\n",
    "                temp = alist[i]\n",
    "                alist[i] = alist[j]\n",
    "                alist[j] = temp\n",
    "\n",
    "blist = [10, 50, 40, 30, 20]\n",
    "decrBubbleSortFromStart(blist)\n",
    "print('Answer: ', blist)"
   ]
  },
  {
   "cell_type": "code",
   "execution_count": null,
   "metadata": {},
   "outputs": [],
   "source": []
  }
 ],
 "metadata": {
  "kernelspec": {
   "display_name": "Python 3",
   "language": "python",
   "name": "python3"
  },
  "language_info": {
   "codemirror_mode": {
    "name": "ipython",
    "version": 3
   },
   "file_extension": ".py",
   "mimetype": "text/x-python",
   "name": "python",
   "nbconvert_exporter": "python",
   "pygments_lexer": "ipython3",
   "version": "3.6.4"
  }
 },
 "nbformat": 4,
 "nbformat_minor": 2
}
